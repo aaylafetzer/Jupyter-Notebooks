{
 "cells": [
  {
   "cell_type": "markdown",
   "metadata": {},
   "source": [
    "## StalinSort Code golf\n",
    "Based on [this](https://mastodon.social/@mathew/100958177234287431) iconic post."
   ]
  },
  {
   "cell_type": "markdown",
   "metadata": {},
   "source": [
    "array = [5, 6, 7, 9, 8, 10, 12, 11]"
   ]
  },
  {
   "cell_type": "markdown",
   "metadata": {},
   "source": [
    "### 105 characters, same number of bytes as when stored in US-ASCII"
   ]
  },
  {
   "cell_type": "code",
   "execution_count": 1,
   "metadata": {},
   "outputs": [],
   "source": [
    "from functools import reduce as r\n",
    "def s(l): print(r(lambda a,b:a+[b]if a[-1]<=b else a,l[1:],l and[l[0]]))"
   ]
  },
  {
   "cell_type": "code",
   "execution_count": 2,
   "metadata": {},
   "outputs": [
    {
     "name": "stdout",
     "output_type": "stream",
     "text": [
      "[5, 6, 7, 9, 10, 12]\n"
     ]
    }
   ],
   "source": [
    "s([5, 6, 7, 9, 8, 10, 12, 11])  # Prints [5, 6, 7, 9, 10, 12]"
   ]
  }
 ],
 "metadata": {
  "kernelspec": {
   "display_name": "Python 3",
   "language": "python",
   "name": "python3"
  },
  "language_info": {
   "codemirror_mode": {
    "name": "ipython",
    "version": 3
   },
   "file_extension": ".py",
   "mimetype": "text/x-python",
   "name": "python",
   "nbconvert_exporter": "python",
   "pygments_lexer": "ipython3",
   "version": "3.8.2"
  }
 },
 "nbformat": 4,
 "nbformat_minor": 4
}
