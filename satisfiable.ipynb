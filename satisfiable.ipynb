{
 "metadata": {
  "language_info": {
   "codemirror_mode": {
    "name": "ipython",
    "version": 3
   },
   "file_extension": ".py",
   "mimetype": "text/x-python",
   "name": "python",
   "nbconvert_exporter": "python",
   "pygments_lexer": "ipython3",
   "version": "3.9.0-final"
  },
  "orig_nbformat": 2,
  "kernelspec": {
   "name": "Python 3.9.0 64-bit",
   "display_name": "Python 3.9.0 64-bit",
   "metadata": {
    "interpreter": {
     "hash": "e7370f93d1d0cde622a1f8e1c04877d8463912d04d973331ad4851f04de6915a"
    }
   }
  }
 },
 "nbformat": 4,
 "nbformat_minor": 2,
 "cells": [
  {
   "source": [
    "![image](https://cdn.discordapp.com/attachments/272062217770237952/778079615071027200/20201116-211145.png)"
   ],
   "cell_type": "markdown",
   "metadata": {}
  },
  {
   "source": [
    "# Bruteforce Solution\n",
    "In python, we can create a function to mirror the behavior of ψ when passed the equivalent variables\n"
   ],
   "cell_type": "markdown",
   "metadata": {}
  },
  {
   "cell_type": "code",
   "execution_count": 1,
   "metadata": {},
   "outputs": [],
   "source": [
    "def test(x, y, z):\n",
    "    return ((x or y) and z) and ((x and y and not z) or z) and (x and y and not z)"
   ]
  },
  {
   "source": [
    "Next, iterate through all combinations of `[True, False]` where the length is 3. The `itertools` package can't be used here because it will only generate 4 of the 8 possibilities."
   ],
   "cell_type": "markdown",
   "metadata": {}
  },
  {
   "cell_type": "code",
   "execution_count": 2,
   "metadata": {},
   "outputs": [
    {
     "output_type": "stream",
     "name": "stdout",
     "text": [
      "000\n001\n010\n011\n100\n101\n110\n111\n"
     ]
    }
   ],
   "source": [
    "outcomes = []\n",
    "for i in range(8):\n",
    "    opt = str(bin(i))[2:]  # Convert to base2 strings\n",
    "    opt = ((3 - len(opt)) * \"0\") + opt # Pad with False\n",
    "    print(opt)\n",
    "    outcome = []\n",
    "    # Process opt\n",
    "    for char in opt:\n",
    "        if char is \"1\":\n",
    "            outcome.append(True)\n",
    "        if char is \"0\":\n",
    "            outcome.append(False)\n",
    "    outcomes.append(outcome)"
   ]
  },
  {
   "source": [
    "Next, iterate the outcomes"
   ],
   "cell_type": "markdown",
   "metadata": {}
  },
  {
   "cell_type": "code",
   "execution_count": 3,
   "metadata": {},
   "outputs": [
    {
     "output_type": "stream",
     "name": "stdout",
     "text": [
      "False\nFalse\nFalse\nFalse\nFalse\nFalse\nFalse\nFalse\n"
     ]
    }
   ],
   "source": [
    "for opt in outcomes:\n",
    "    print(test(opt[0], opt[1], opt[2]))"
   ]
  },
  {
   "source": [
    "# The Easy Solution\n",
    "Taking our Python recreation for easily visibility:\n",
    "> ψ = ((x or y) and z) and ((x and y and not z) or z) and (x and y and not z)\n",
    "\n",
    "This can be broken into 3 parts connected by `and` statements:\n",
    "- ((x or y) and z)\n",
    "- ((x and y and not z) or z)\n",
    "- (x and y and not z)\n",
    "\n",
    "Because these three statements are connected by `and` statements, they must all be true to satisfy ψ. This is impossible because of the first and third statements.\n",
    "- ((x or y) and z)\n",
    "- (x and y and not z)\n",
    "\n",
    "For the first and third statements to be `True`, z must be `True` to satisfy the first statement. However, because of the `not z` in the third statement, z must also be `False` to satisfy the third statement. Because z cannot be `True` AND `False` simultaneously, ψ can never be `True`"
   ],
   "cell_type": "markdown",
   "metadata": {}
  },
  {
   "cell_type": "code",
   "execution_count": null,
   "metadata": {},
   "outputs": [],
   "source": []
  }
 ]
}