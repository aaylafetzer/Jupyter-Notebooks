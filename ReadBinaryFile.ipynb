{
 "cells": [
  {
   "cell_type": "markdown",
   "metadata": {},
   "source": [
    "# Read Numpy File as binary\n",
    "\n",
    "While normally it would be acceptable to simply import the array file into python with [np.load](https://numpy.org/doc/stable/reference/generated/numpy.load.html), Python does not meet the required per-frame time budget for Project Basilisk. This means that our frame loader for testing Basilisk will need to be written in a language with faster execution times, such as C or C++. Because we can't\\* import numpy into C or C++, or because we may use a non-C language entirely, we need to know how to read a numpy array as a binary file without access to any of the methods provided by numpy.\n",
    "\n",
    "**Arete Confidential. Do not distribute.**"
   ]
  },
  {
   "cell_type": "markdown",
   "metadata": {},
   "source": [
    "### Imports"
   ]
  },
  {
   "cell_type": "code",
   "execution_count": 172,
   "metadata": {},
   "outputs": [],
   "source": [
    "from glob import glob\n",
    "import numpy as np"
   ]
  },
  {
   "cell_type": "markdown",
   "metadata": {},
   "source": [
    "### Variables"
   ]
  },
  {
   "cell_type": "code",
   "execution_count": 173,
   "metadata": {},
   "outputs": [],
   "source": [
    "PATH = \"Z:\\Export\\Day_1\\Test_1\\Shot_1_nuc\""
   ]
  },
  {
   "cell_type": "code",
   "execution_count": 174,
   "metadata": {},
   "outputs": [],
   "source": [
    "#Clean the PATH variables\n",
    "PATH = PATH.replace(\"\\\\\",\"/\") #Use forward slashes as god intended\n",
    "PATH = PATH.rstrip(\"/\") #Remove any trailing slash"
   ]
  },
  {
   "cell_type": "markdown",
   "metadata": {},
   "source": [
    "### Find and read first .npy file"
   ]
  },
  {
   "cell_type": "code",
   "execution_count": 175,
   "metadata": {},
   "outputs": [],
   "source": [
    "file = open(glob(PATH+'/*.npy')[0],'rb')"
   ]
  },
  {
   "cell_type": "markdown",
   "metadata": {},
   "source": [
    "#### Does the file have a numpy signature?\n",
    "[According to the numpy format specifications,](http://numpy.org/devdocs/reference/generated/numpy.lib.format.html) the first six bytes of a binary file are exactly \"\\x93NUMPY.\""
   ]
  },
  {
   "cell_type": "code",
   "execution_count": 176,
   "metadata": {},
   "outputs": [
    {
     "name": "stdout",
     "output_type": "stream",
     "text": [
      "Signature is b'\\x93NUMPY'\n",
      "First six bytes are b'\\x93NUMPY'\n"
     ]
    },
    {
     "data": {
      "text/plain": [
       "True"
      ]
     },
     "execution_count": 176,
     "metadata": {},
     "output_type": "execute_result"
    }
   ],
   "source": [
    "signature = b'\\x93NUMPY'\n",
    "file.seek(0,0)\n",
    "first_six_bytes = file.read(6)\n",
    "print(\"Signature is \" + str(signature))\n",
    "print(\"First six bytes are \" + str(first_six_bytes))\n",
    "first_six_bytes == signature"
   ]
  },
  {
   "cell_type": "markdown",
   "metadata": {},
   "source": [
    "#### Version numbering\n",
    "After the signature, the next two bytes of a numpy file are the major and minor version numbers respectively."
   ]
  },
  {
   "cell_type": "code",
   "execution_count": 177,
   "metadata": {},
   "outputs": [
    {
     "name": "stdout",
     "output_type": "stream",
     "text": [
      "This array was saved with numpy format version 1.0\n"
     ]
    }
   ],
   "source": [
    "file.seek(6,0)\n",
    "major_version = ord(file.read(1))\n",
    "minor_version = ord(file.read(1))\n",
    "\n",
    "print(\"This array was saved with numpy format version \" + str(major_version) + \".\" + str(minor_version))"
   ]
  },
  {
   "cell_type": "markdown",
   "metadata": {},
   "source": [
    "#### Compatability Note\n",
    "[From the numpy docs](http://numpy.org/devdocs/reference/generated/numpy.lib.format.html#format-version-2-0), \"The version 1.0 format only allowed the array header to have a total size of 65535 bytes. This can be exceeded by structured arrays with a large number of columns. The version 2.0 format extends the header size to 4 GiB. numpy.save will automatically save in 2.0 format if the data requires it, else it will always use the more compatible 1.0 format.\"\n",
    "\n",
    "This means that, unless you have a very large .npy file, you should expect version 1.0 for increased compatability"
   ]
  },
  {
   "cell_type": "markdown",
   "metadata": {},
   "source": [
    "#### HEADER_LEN\n",
    "The next 2 bytes form an unsigned integer representing the length of the header. I am unsure how to parse this, but it doesn't seem entirely necessary to do so because of how the header is formatted."
   ]
  },
  {
   "cell_type": "code",
   "execution_count": 178,
   "metadata": {},
   "outputs": [
    {
     "name": "stdout",
     "output_type": "stream",
     "text": [
      "This file has a header length of b'v\\x00'\n"
     ]
    }
   ],
   "source": [
    "file.seek(8,0)\n",
    "HEADER_LEN = file.read(2)\n",
    "print(f\"This file has a header length of {HEADER_LEN}\")"
   ]
  },
  {
   "cell_type": "markdown",
   "metadata": {},
   "source": [
    "#### HEADER\n",
    "The next HEADER_LEN bytes describe the format of the array. If HEADER_LEN is unavailable, you can safely just read until you find the byte representation of a newline char."
   ]
  },
  {
   "cell_type": "code",
   "execution_count": 179,
   "metadata": {},
   "outputs": [
    {
     "name": "stdout",
     "output_type": "stream",
     "text": [
      "b\"{'descr': '<u2', 'fortran_order': False, 'shape': (1025, 1024), }                                                    \\n\"\n",
      "\n",
      "\n",
      "descr: <u2\n",
      "fortran_order: False\n",
      "shape: (1025, 1024)\n"
     ]
    }
   ],
   "source": [
    "file.seek(10,0)\n",
    "HEADER = file.read(1)\n",
    "while True:\n",
    "    next_char = file.read(1)\n",
    "    HEADER += next_char\n",
    "    if next_char == b'\\n':\n",
    "        break\n",
    "HEADER_DICT = eval(HEADER)\n",
    "print(HEADER)\n",
    "print(\"\\n\")\n",
    "for elem in HEADER_DICT:\n",
    "    print(str(elem) + \": \" + str(HEADER_DICT[elem]))"
   ]
  },
  {
   "cell_type": "markdown",
   "metadata": {},
   "source": [
    "#### % 64\n",
    "The length of the magic string, version, HEADER_LENGTH, and HEADER should be evenly divisible by 64"
   ]
  },
  {
   "cell_type": "code",
   "execution_count": 180,
   "metadata": {},
   "outputs": [
    {
     "data": {
      "text/plain": [
       "True"
      ]
     },
     "execution_count": 180,
     "metadata": {},
     "output_type": "execute_result"
    }
   ],
   "source": [
    "total = (len(first_six_bytes) + 2 + len(HEADER_LEN) + len(HEADER))\n",
    "total % 64 == 0"
   ]
  },
  {
   "cell_type": "markdown",
   "metadata": {},
   "source": [
    "#### Array Data\n",
    "You don't even want to know how long I was trying to get this to work before I discovered int.from_bytes()"
   ]
  },
  {
   "cell_type": "code",
   "execution_count": 181,
   "metadata": {},
   "outputs": [
    {
     "name": "stdout",
     "output_type": "stream",
     "text": [
      "1\n",
      "3\n",
      "0\n",
      "0\n",
      "75\n",
      "0\n",
      "0\n",
      "0\n",
      "3\n",
      "207\n"
     ]
    }
   ],
   "source": [
    "file.seek(total,0)\n",
    "for i in range(10):\n",
    "    print(int.from_bytes(file.read(2), byteorder='little'))"
   ]
  }
 ],
 "metadata": {
  "kernelspec": {
   "display_name": "Python 3",
   "language": "python",
   "name": "python3"
  },
  "language_info": {
   "codemirror_mode": {
    "name": "ipython",
    "version": 3
   },
   "file_extension": ".py",
   "mimetype": "text/x-python",
   "name": "python",
   "nbconvert_exporter": "python",
   "pygments_lexer": "ipython3",
   "version": "3.8.2"
  }
 },
 "nbformat": 4,
 "nbformat_minor": 4
}
